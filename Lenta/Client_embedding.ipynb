{
 "cells": [
  {
   "cell_type": "markdown",
   "metadata": {},
   "source": [
    "## Data"
   ]
  },
  {
   "cell_type": "code",
   "execution_count": 1,
   "metadata": {},
   "outputs": [],
   "source": [
    "import pandas as pd\n",
    "import numpy as np\n",
    "from collections import Counter"
   ]
  },
  {
   "cell_type": "code",
   "execution_count": 2,
   "metadata": {},
   "outputs": [
    {
     "name": "stdout",
     "output_type": "stream",
     "text": [
      "clients.csv  Data.ipynb  materials.csv  plants.csv  transactions.parquet\r\n"
     ]
    }
   ],
   "source": [
    "ls"
   ]
  },
  {
   "cell_type": "code",
   "execution_count": 3,
   "metadata": {},
   "outputs": [],
   "source": [
    "data_clients = pd.read_csv('clients.csv')\n",
    "data_materials = pd.read_csv('materials.csv')\n",
    "data_plants = pd.read_csv('plants.csv')\n",
    "data_transaction = pd.read_parquet('transactions.parquet')"
   ]
  },
  {
   "cell_type": "code",
   "execution_count": 4,
   "metadata": {},
   "outputs": [],
   "source": [
    "data_materials.set_index('material', inplace=True)"
   ]
  },
  {
   "cell_type": "code",
   "execution_count": 5,
   "metadata": {},
   "outputs": [],
   "source": [
    "data_client_date = pd.DataFrame(data_transaction.groupby(['client_id', 'chq_date'])['material'].apply(list))"
   ]
  },
  {
   "cell_type": "code",
   "execution_count": 7,
   "metadata": {},
   "outputs": [],
   "source": [
    "data_client_date_sum = data_transaction.groupby(['client_id', 'chq_date'])['sales_sum'].sum()"
   ]
  },
  {
   "cell_type": "markdown",
   "metadata": {},
   "source": [
    "## Merging the tables"
   ]
  },
  {
   "cell_type": "markdown",
   "metadata": {},
   "source": [
    "* Our aim to get the list of regular purchases for each client\n",
    "* For this we merge tables Transactions and Materials in order to have information about most popular subcategories"
   ]
  },
  {
   "cell_type": "code",
   "execution_count": 8,
   "metadata": {},
   "outputs": [],
   "source": [
    "def category(g):\n",
    "    return data_materials.loc[g, 'hier_level_4']"
   ]
  },
  {
   "cell_type": "code",
   "execution_count": 9,
   "metadata": {},
   "outputs": [],
   "source": [
    "def regular(l, k=7):\n",
    "    c = Counter()\n",
    "    for s in l:\n",
    "        for g in set(s):\n",
    "            try:\n",
    "                c[category(g)] += 1\n",
    "            except:\n",
    "                pass\n",
    "    return [g[0] for g in c.most_common(k)]"
   ]
  },
  {
   "cell_type": "code",
   "execution_count": 10,
   "metadata": {},
   "outputs": [],
   "source": [
    "data_client_populars = data_client_date.groupby(['client_id'])['material'].apply(list).apply(regular)"
   ]
  },
  {
   "cell_type": "code",
   "execution_count": 31,
   "metadata": {},
   "outputs": [],
   "source": [
    "sum_sales_per_material = data_transaction.groupby(['material'])['sales_sum'].apply(sum)"
   ]
  },
  {
   "cell_type": "code",
   "execution_count": 11,
   "metadata": {},
   "outputs": [],
   "source": [
    "client_populars = pd.DataFrame(data_client_populars)"
   ]
  },
  {
   "cell_type": "code",
   "execution_count": 32,
   "metadata": {},
   "outputs": [
    {
     "data": {
      "text/html": [
       "<div>\n",
       "<style scoped>\n",
       "    .dataframe tbody tr th:only-of-type {\n",
       "        vertical-align: middle;\n",
       "    }\n",
       "\n",
       "    .dataframe tbody tr th {\n",
       "        vertical-align: top;\n",
       "    }\n",
       "\n",
       "    .dataframe thead th {\n",
       "        text-align: right;\n",
       "    }\n",
       "</style>\n",
       "<table border=\"1\" class=\"dataframe\">\n",
       "  <thead>\n",
       "    <tr style=\"text-align: right;\">\n",
       "      <th></th>\n",
       "      <th>material</th>\n",
       "    </tr>\n",
       "    <tr>\n",
       "      <th>client_id</th>\n",
       "      <th></th>\n",
       "    </tr>\n",
       "  </thead>\n",
       "  <tbody>\n",
       "    <tr>\n",
       "      <th>0000d48a8891cd462fdf01ea861ec53e</th>\n",
       "      <td>[91534231d73afa8f5765e15d83711a52, 7eb63217014...</td>\n",
       "    </tr>\n",
       "    <tr>\n",
       "      <th>00028a1dcb30863404a386961a69300e</th>\n",
       "      <td>[5bf563e8f99ed820f322704e4898df6b, cc5db3223b7...</td>\n",
       "    </tr>\n",
       "    <tr>\n",
       "      <th>0004274683494a9eca5e70ef97299d55</th>\n",
       "      <td>[d390d3da2959fcf07b08b99257b0f310, 88bc8e4c598...</td>\n",
       "    </tr>\n",
       "    <tr>\n",
       "      <th>00072f81efcb3481861f7300c5e2a88a</th>\n",
       "      <td>[52cbb5dbb41a50faf776f1a19ba39402, 8ccc801ac01...</td>\n",
       "    </tr>\n",
       "    <tr>\n",
       "      <th>00076596eb749cf10c2e984621dffe95</th>\n",
       "      <td>[5bf563e8f99ed820f322704e4898df6b, 7cb5a0b09f0...</td>\n",
       "    </tr>\n",
       "  </tbody>\n",
       "</table>\n",
       "</div>"
      ],
      "text/plain": [
       "                                                                           material\n",
       "client_id                                                                          \n",
       "0000d48a8891cd462fdf01ea861ec53e  [91534231d73afa8f5765e15d83711a52, 7eb63217014...\n",
       "00028a1dcb30863404a386961a69300e  [5bf563e8f99ed820f322704e4898df6b, cc5db3223b7...\n",
       "0004274683494a9eca5e70ef97299d55  [d390d3da2959fcf07b08b99257b0f310, 88bc8e4c598...\n",
       "00072f81efcb3481861f7300c5e2a88a  [52cbb5dbb41a50faf776f1a19ba39402, 8ccc801ac01...\n",
       "00076596eb749cf10c2e984621dffe95  [5bf563e8f99ed820f322704e4898df6b, 7cb5a0b09f0..."
      ]
     },
     "execution_count": 32,
     "metadata": {},
     "output_type": "execute_result"
    }
   ],
   "source": [
    "client_populars.head()"
   ]
  },
  {
   "cell_type": "markdown",
   "metadata": {},
   "source": [
    "## Constructing the Embedding using tSNE"
   ]
  },
  {
   "cell_type": "code",
   "execution_count": 16,
   "metadata": {},
   "outputs": [],
   "source": [
    "from sklearn.feature_extraction.text import CountVectorizer"
   ]
  },
  {
   "cell_type": "code",
   "execution_count": 26,
   "metadata": {},
   "outputs": [],
   "source": [
    "vectorizer = CountVectorizer()"
   ]
  },
  {
   "cell_type": "code",
   "execution_count": 25,
   "metadata": {},
   "outputs": [],
   "source": [
    "texts = [' '.join(s) for s in client_populars['material'].to_list()]"
   ]
  },
  {
   "cell_type": "code",
   "execution_count": 27,
   "metadata": {},
   "outputs": [],
   "source": [
    "X = vectorizer.fit_transform(texts)"
   ]
  },
  {
   "cell_type": "code",
   "execution_count": 29,
   "metadata": {},
   "outputs": [
    {
     "data": {
      "text/plain": [
       "(100000, 1790)"
      ]
     },
     "execution_count": 29,
     "metadata": {},
     "output_type": "execute_result"
    }
   ],
   "source": [
    "X.shape"
   ]
  },
  {
   "cell_type": "code",
   "execution_count": 30,
   "metadata": {},
   "outputs": [],
   "source": [
    "from sklearn.manifold import TSNE"
   ]
  },
  {
   "cell_type": "code",
   "execution_count": 33,
   "metadata": {},
   "outputs": [],
   "source": [
    "transformed_data = TSNE(n_components=2, n_jobs=-1).fit_transform(X)"
   ]
  },
  {
   "cell_type": "markdown",
   "metadata": {},
   "source": [
    "## Clustering algorithms"
   ]
  },
  {
   "cell_type": "code",
   "execution_count": 34,
   "metadata": {},
   "outputs": [],
   "source": [
    "from sklearn.cluster import KMeans"
   ]
  },
  {
   "cell_type": "code",
   "execution_count": 35,
   "metadata": {},
   "outputs": [],
   "source": [
    "kmeans = KMeans(n_clusters=10)\n",
    "kmeans.fit(transformed_data)\n",
    "labels = kmeans.predict(transformed_data)"
   ]
  },
  {
   "cell_type": "code",
   "execution_count": 37,
   "metadata": {},
   "outputs": [],
   "source": [
    "import matplotlib.pyplot as plt\n",
    "%matplotlib inline"
   ]
  },
  {
   "cell_type": "code",
   "execution_count": 39,
   "metadata": {},
   "outputs": [
    {
     "data": {
      "image/png": "[encoded data removed]",
      "text/plain": [
       "<Figure size 432x288 with 1 Axes>"
      ]
     },
     "metadata": {
      "needs_background": "light"
     },
     "output_type": "display_data"
    }
   ],
   "source": [
    "plt.scatter(transformed_data[:, 0], transformed_data[:, 1], c=labels, s=5);"
   ]
  },
  {
   "cell_type": "markdown",
   "metadata": {},
   "source": [
    "## Future work"
   ]
  },
  {
   "cell_type": "markdown",
   "metadata": {},
   "source": [
    "* experiments with other clustering techniques\n",
    "* training NN embedding using Jackard similarity"
   ]
  },
  {
   "cell_type": "code",
   "execution_count": null,
   "metadata": {},
   "outputs": [],
   "source": []
  }
 ],
 "metadata": {
  "kernelspec": {
   "display_name": "Python 3",
   "language": "python",
   "name": "python3"
  },
  "language_info": {
   "codemirror_mode": {
    "name": "ipython",
    "version": 3
   },
   "file_extension": ".py",
   "mimetype": "text/x-python",
   "name": "python",
   "nbconvert_exporter": "python",
   "pygments_lexer": "ipython3",
   "version": "3.7.3"
  }
 },
 "nbformat": 4,
 "nbformat_minor": 2
}
